{
 "cells": [
  {
   "cell_type": "code",
   "execution_count": 13,
   "metadata": {},
   "outputs": [],
   "source": [
    "from tkinter import *\n",
    "root = Tk()\n",
    "root.title('WerkWerkWerk')\n",
    "\n",
    "def add_item():\n",
    "    to_add = add_text.get()\n",
    "    lstbox.insert('end',to_add)\n",
    "\n",
    "\n",
    "l1 = Label(root, text='Get Sh*t Done List')\n",
    "l1.grid(row=0, column=0)\n",
    "\n",
    "b1 = Button(root, text='Add to-do item', width=12, command=add_item)\n",
    "b1.grid(row=1, column=0)\n",
    "b1 = Button(root, text='Clear all tasks', width=10)\n",
    "b1.grid(row=2, column=0)\n",
    "b1 = Button(root, text='Remove', width=6)\n",
    "b1.grid(row=3, column=0)\n",
    "b1 = Button(root, text='ascending \\n sort', width=8)\n",
    "b1.grid(row=4, column=0)\n",
    "b1 = Button(root, text='Sort (DESC)', width=9)\n",
    "b1.grid(row=5, column=0)\n",
    "b1 = Button(root, text='Choose Random', width=12)\n",
    "b1.grid(row=6, column=0)\n",
    "b1 = Button(root, text='Number of Task', width=12)\n",
    "b1.grid(row=7, column=0)\n",
    "b1 = Button(root, text='Exit', width=3)\n",
    "b1.grid(row=8, column=0)\n",
    "# define Entries\n",
    "add_text=StringVar()\n",
    "e1=Entry(root,textvariable=add_text)\n",
    "e1.grid(row=1, column=4)\n",
    "\n",
    "\n",
    "# define Listbox\n",
    "lstbox = Listbox(root, height=11, width=20)\n",
    "lstbox.grid(row=2, column=4, rowspan=8, columnspan=1)\n",
    "\n",
    "\n",
    "    \n",
    "\n",
    "root.mainloop()"
   ]
  },
  {
   "cell_type": "code",
   "execution_count": null,
   "metadata": {},
   "outputs": [],
   "source": []
  }
 ],
 "metadata": {
  "kernelspec": {
   "display_name": "Python 3",
   "language": "python",
   "name": "python3"
  },
  "language_info": {
   "codemirror_mode": {
    "name": "ipython",
    "version": 3
   },
   "file_extension": ".py",
   "mimetype": "text/x-python",
   "name": "python",
   "nbconvert_exporter": "python",
   "pygments_lexer": "ipython3",
   "version": "3.6.5"
  }
 },
 "nbformat": 4,
 "nbformat_minor": 2
}
